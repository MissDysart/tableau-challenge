{
 "cells": [
  {
   "cell_type": "code",
   "execution_count": 1,
   "metadata": {},
   "outputs": [],
   "source": [
    "import pandas as pd"
   ]
  },
  {
   "cell_type": "code",
   "execution_count": 2,
   "metadata": {},
   "outputs": [
    {
     "data": {
      "text/html": [
       "<div>\n",
       "<style scoped>\n",
       "    .dataframe tbody tr th:only-of-type {\n",
       "        vertical-align: middle;\n",
       "    }\n",
       "\n",
       "    .dataframe tbody tr th {\n",
       "        vertical-align: top;\n",
       "    }\n",
       "\n",
       "    .dataframe thead th {\n",
       "        text-align: right;\n",
       "    }\n",
       "</style>\n",
       "<table border=\"1\" class=\"dataframe\">\n",
       "  <thead>\n",
       "    <tr style=\"text-align: right;\">\n",
       "      <th></th>\n",
       "      <th>ride_id</th>\n",
       "      <th>rideable_type</th>\n",
       "      <th>started_at</th>\n",
       "      <th>ended_at</th>\n",
       "      <th>start_station_name</th>\n",
       "      <th>start_station_id</th>\n",
       "      <th>end_station_name</th>\n",
       "      <th>end_station_id</th>\n",
       "      <th>start_lat</th>\n",
       "      <th>start_lng</th>\n",
       "      <th>end_lat</th>\n",
       "      <th>end_lng</th>\n",
       "      <th>member_casual</th>\n",
       "    </tr>\n",
       "  </thead>\n",
       "  <tbody>\n",
       "    <tr>\n",
       "      <th>0</th>\n",
       "      <td>0744109F13385D1D</td>\n",
       "      <td>electric_bike</td>\n",
       "      <td>2024-01-15 15:18:07</td>\n",
       "      <td>2024-01-15 15:32:44</td>\n",
       "      <td>Morris Canal</td>\n",
       "      <td>JC072</td>\n",
       "      <td>Oakland Ave</td>\n",
       "      <td>JC022</td>\n",
       "      <td>40.712297</td>\n",
       "      <td>-74.038185</td>\n",
       "      <td>40.737604</td>\n",
       "      <td>-74.052478</td>\n",
       "      <td>member</td>\n",
       "    </tr>\n",
       "    <tr>\n",
       "      <th>1</th>\n",
       "      <td>B1488BFEF9118000</td>\n",
       "      <td>classic_bike</td>\n",
       "      <td>2024-01-13 15:32:50</td>\n",
       "      <td>2024-01-13 15:36:18</td>\n",
       "      <td>JC Medical Center</td>\n",
       "      <td>JC110</td>\n",
       "      <td>Grove St PATH</td>\n",
       "      <td>JC115</td>\n",
       "      <td>40.715391</td>\n",
       "      <td>-74.049692</td>\n",
       "      <td>40.719410</td>\n",
       "      <td>-74.043090</td>\n",
       "      <td>member</td>\n",
       "    </tr>\n",
       "    <tr>\n",
       "      <th>2</th>\n",
       "      <td>95A2FE8E51B4C836</td>\n",
       "      <td>classic_bike</td>\n",
       "      <td>2024-01-19 13:11:00</td>\n",
       "      <td>2024-01-19 13:14:44</td>\n",
       "      <td>Morris Canal</td>\n",
       "      <td>JC072</td>\n",
       "      <td>Exchange Pl</td>\n",
       "      <td>JC116</td>\n",
       "      <td>40.712419</td>\n",
       "      <td>-74.038526</td>\n",
       "      <td>40.716366</td>\n",
       "      <td>-74.034344</td>\n",
       "      <td>member</td>\n",
       "    </tr>\n",
       "    <tr>\n",
       "      <th>3</th>\n",
       "      <td>95D9AFF6A1652DC1</td>\n",
       "      <td>classic_bike</td>\n",
       "      <td>2024-01-23 07:03:49</td>\n",
       "      <td>2024-01-23 07:07:11</td>\n",
       "      <td>Morris Canal</td>\n",
       "      <td>JC072</td>\n",
       "      <td>Exchange Pl</td>\n",
       "      <td>JC116</td>\n",
       "      <td>40.712419</td>\n",
       "      <td>-74.038526</td>\n",
       "      <td>40.716366</td>\n",
       "      <td>-74.034344</td>\n",
       "      <td>member</td>\n",
       "    </tr>\n",
       "    <tr>\n",
       "      <th>4</th>\n",
       "      <td>5F7408988A83B1B3</td>\n",
       "      <td>classic_bike</td>\n",
       "      <td>2024-01-01 16:46:10</td>\n",
       "      <td>2024-01-01 16:50:31</td>\n",
       "      <td>Morris Canal</td>\n",
       "      <td>JC072</td>\n",
       "      <td>Harborside</td>\n",
       "      <td>JC104</td>\n",
       "      <td>40.712419</td>\n",
       "      <td>-74.038526</td>\n",
       "      <td>40.719252</td>\n",
       "      <td>-74.034234</td>\n",
       "      <td>member</td>\n",
       "    </tr>\n",
       "  </tbody>\n",
       "</table>\n",
       "</div>"
      ],
      "text/plain": [
       "            ride_id  rideable_type           started_at             ended_at  \\\n",
       "0  0744109F13385D1D  electric_bike  2024-01-15 15:18:07  2024-01-15 15:32:44   \n",
       "1  B1488BFEF9118000   classic_bike  2024-01-13 15:32:50  2024-01-13 15:36:18   \n",
       "2  95A2FE8E51B4C836   classic_bike  2024-01-19 13:11:00  2024-01-19 13:14:44   \n",
       "3  95D9AFF6A1652DC1   classic_bike  2024-01-23 07:03:49  2024-01-23 07:07:11   \n",
       "4  5F7408988A83B1B3   classic_bike  2024-01-01 16:46:10  2024-01-01 16:50:31   \n",
       "\n",
       "  start_station_name start_station_id end_station_name end_station_id  \\\n",
       "0       Morris Canal            JC072      Oakland Ave          JC022   \n",
       "1  JC Medical Center            JC110    Grove St PATH          JC115   \n",
       "2       Morris Canal            JC072      Exchange Pl          JC116   \n",
       "3       Morris Canal            JC072      Exchange Pl          JC116   \n",
       "4       Morris Canal            JC072       Harborside          JC104   \n",
       "\n",
       "   start_lat  start_lng    end_lat    end_lng member_casual  \n",
       "0  40.712297 -74.038185  40.737604 -74.052478        member  \n",
       "1  40.715391 -74.049692  40.719410 -74.043090        member  \n",
       "2  40.712419 -74.038526  40.716366 -74.034344        member  \n",
       "3  40.712419 -74.038526  40.716366 -74.034344        member  \n",
       "4  40.712419 -74.038526  40.719252 -74.034234        member  "
      ]
     },
     "execution_count": 2,
     "metadata": {},
     "output_type": "execute_result"
    }
   ],
   "source": [
    "ny_citibike = pd.concat(map(pd.read_csv, ['Resources/JC-202401-citibike-tripdata.csv',\n",
    "                                          'Resources/JC-202402-citibike-tripdata.csv',\n",
    "                                          'Resources/JC-202403-citibike-tripdata.csv']),\n",
    "                                          ignore_index=True)\n",
    "ny_citibike.head()"
   ]
  },
  {
   "cell_type": "code",
   "execution_count": 3,
   "metadata": {},
   "outputs": [
    {
     "name": "stdout",
     "output_type": "stream",
     "text": [
      "<class 'pandas.core.frame.DataFrame'>\n",
      "RangeIndex: 171855 entries, 0 to 171854\n",
      "Data columns (total 13 columns):\n",
      " #   Column              Non-Null Count   Dtype  \n",
      "---  ------              --------------   -----  \n",
      " 0   ride_id             171855 non-null  object \n",
      " 1   rideable_type       171855 non-null  object \n",
      " 2   started_at          171855 non-null  object \n",
      " 3   ended_at            171855 non-null  object \n",
      " 4   start_station_name  171780 non-null  object \n",
      " 5   start_station_id    171780 non-null  object \n",
      " 6   end_station_name    171330 non-null  object \n",
      " 7   end_station_id      171312 non-null  object \n",
      " 8   start_lat           171855 non-null  float64\n",
      " 9   start_lng           171855 non-null  float64\n",
      " 10  end_lat             171801 non-null  float64\n",
      " 11  end_lng             171801 non-null  float64\n",
      " 12  member_casual       171855 non-null  object \n",
      "dtypes: float64(4), object(9)\n",
      "memory usage: 17.0+ MB\n"
     ]
    }
   ],
   "source": [
    "ny_citibike.info()"
   ]
  },
  {
   "cell_type": "code",
   "execution_count": 7,
   "metadata": {},
   "outputs": [
    {
     "name": "stdout",
     "output_type": "stream",
     "text": [
      "<class 'pandas.core.frame.DataFrame'>\n",
      "Index: 171276 entries, 0 to 171854\n",
      "Data columns (total 13 columns):\n",
      " #   Column              Non-Null Count   Dtype  \n",
      "---  ------              --------------   -----  \n",
      " 0   ride_id             171276 non-null  object \n",
      " 1   rideable_type       171276 non-null  object \n",
      " 2   started_at          171276 non-null  object \n",
      " 3   ended_at            171276 non-null  object \n",
      " 4   start_station_name  171276 non-null  object \n",
      " 5   start_station_id    171276 non-null  object \n",
      " 6   end_station_name    171276 non-null  object \n",
      " 7   end_station_id      171276 non-null  object \n",
      " 8   start_lat           171276 non-null  float64\n",
      " 9   start_lng           171276 non-null  float64\n",
      " 10  end_lat             171276 non-null  float64\n",
      " 11  end_lng             171276 non-null  float64\n",
      " 12  member_casual       171276 non-null  object \n",
      "dtypes: float64(4), object(9)\n",
      "memory usage: 18.3+ MB\n"
     ]
    }
   ],
   "source": [
    "new_ny_citibike = ny_citibike.dropna()\n",
    "new_ny_citibike.info()"
   ]
  },
  {
   "cell_type": "code",
   "execution_count": 8,
   "metadata": {},
   "outputs": [],
   "source": [
    "new_ny_citibike.to_csv('JC-2024Q1-citibike-tripdata.csv', index=False)"
   ]
  }
 ],
 "metadata": {
  "kernelspec": {
   "display_name": "Python 3",
   "language": "python",
   "name": "python3"
  },
  "language_info": {
   "codemirror_mode": {
    "name": "ipython",
    "version": 3
   },
   "file_extension": ".py",
   "mimetype": "text/x-python",
   "name": "python",
   "nbconvert_exporter": "python",
   "pygments_lexer": "ipython3",
   "version": "3.11.9"
  }
 },
 "nbformat": 4,
 "nbformat_minor": 2
}
